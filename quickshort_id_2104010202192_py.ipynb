{
  "nbformat": 4,
  "nbformat_minor": 0,
  "metadata": {
    "colab": {
      "provenance": [],
      "authorship_tag": "ABX9TyNiJ5iHE/cREgrL2HiiEiuH",
      "include_colab_link": true
    },
    "kernelspec": {
      "name": "python3",
      "display_name": "Python 3"
    },
    "language_info": {
      "name": "python"
    }
  },
  "cells": [
    {
      "cell_type": "markdown",
      "metadata": {
        "id": "view-in-github",
        "colab_type": "text"
      },
      "source": [
        "<a href=\"https://colab.research.google.com/github/arifuspia/pythonPractices/blob/main/quickshort_id_2104010202192_py.ipynb\" target=\"_parent\"><img src=\"https://colab.research.google.com/assets/colab-badge.svg\" alt=\"Open In Colab\"/></a>"
      ]
    },
    {
      "cell_type": "code",
      "execution_count": null,
      "metadata": {
        "colab": {
          "base_uri": "https://localhost:8080/"
        },
        "id": "IpNIb1F86Zmg",
        "outputId": "61f3c18a-b227-4553-c1a2-176cfdfcfbea"
      },
      "outputs": [
        {
          "output_type": "stream",
          "name": "stdout",
          "text": [
            "Original ID is:\n",
            "0\n",
            "2\n",
            "1\n",
            "9\n",
            "2\n",
            "\n",
            "Sorted ID is:\n",
            "0\n",
            "1\n",
            "2\n",
            "2\n",
            "9\n"
          ]
        }
      ],
      "source": [
        "def partition(arr, l, h):\n",
        "    i = l - 1\n",
        "    x = arr[h]\n",
        "\n",
        "    for j in range(l, h):\n",
        "        if arr[j] <= x:\n",
        "            i = i + 1\n",
        "            arr[i], arr[j] = arr[j], arr[i]\n",
        "\n",
        "    arr[i + 1], arr[h] = arr[h], arr[i + 1]\n",
        "    return i + 1\n",
        "\n",
        "\n",
        "def quickSortIterative(arr, l, h):\n",
        "    size = h - l + 1\n",
        "    stack = [0] * (size)\n",
        "    top = -1\n",
        "    top = top + 1\n",
        "    stack[top] = l\n",
        "    top = top + 1\n",
        "    stack[top] = h\n",
        "\n",
        "    while top >= 0:\n",
        "        h = stack[top]\n",
        "        top = top - 1\n",
        "        l = stack[top]\n",
        "        top = top - 1\n",
        "\n",
        "        p = partition(arr, l, h)\n",
        "\n",
        "        if p - 1 > l:\n",
        "            top = top + 1\n",
        "            stack[top] = l\n",
        "            top = top + 1\n",
        "            stack[top] = p - 1\n",
        "\n",
        "        if p + 1 < h:\n",
        "            top = top + 1\n",
        "            stack[top] = p + 1\n",
        "            top = top + 1\n",
        "            stack[top] = h\n",
        "\n",
        "\n",
        "arr = [0, 2, 1, 9, 2]\n",
        "n = len(arr)\n",
        "\n",
        "print(\"Original ID is:\")\n",
        "for i in range(n):\n",
        "    print(\"%d\" % arr[i])\n",
        "\n",
        "quickSortIterative(arr, 0, n - 1)\n",
        "\n",
        "print(\"\\nSorted ID is:\")\n",
        "for i in range(n):\n",
        "    print(\"%d\" % arr[i])\n"
      ]
    },
    {
      "cell_type": "code",
      "source": [],
      "metadata": {
        "id": "tBiPqw-96bQS"
      },
      "execution_count": null,
      "outputs": []
    }
  ]
}